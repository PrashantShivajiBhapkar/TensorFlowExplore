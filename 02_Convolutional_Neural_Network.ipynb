{
 "cells": [
  {
   "cell_type": "markdown",
   "metadata": {},
   "source": [
    "# TensorFlow 2\n",
    "## Convolutional Neural Network\n",
    "\n",
    "Here, I will implement a simple Convolutional Neural Network in TensorFlow for the same problem in \"Tensorflow 1\". The accuracy is expected to be more here, as convolutional neural network learn images more than the normal neural networks.\n",
    "\n",
    "Convolutional Networks work by moving small filters across the input image. This means the filters are re-used for recognizing patterns throughout the entire input image. This makes the Convolutional Networks much more powerful than Fully-Connected networks with the same number of variables. This in turn makes the Convolutional Networks faster to train."
   ]
  },
  {
   "cell_type": "markdown",
   "metadata": {},
   "source": [
    "## Imports"
   ]
  },
  {
   "cell_type": "code",
   "execution_count": 1,
   "metadata": {
    "collapsed": true
   },
   "outputs": [],
   "source": [
    "%matplotlib inline\n",
    "import numpy as np\n",
    "import tensorflow as tf\n",
    "import matplotlib.pyplot as plt\n",
    "from sklearn.metrics import confusion_matrix\n",
    "import time\n",
    "from datetime import timedelta\n",
    "import math\n",
    "import warnings\n",
    "warnings.filterwarnings('ignore')"
   ]
  },
  {
   "cell_type": "markdown",
   "metadata": {},
   "source": [
    "Tensorflow version at the time of writing this notebook"
   ]
  },
  {
   "cell_type": "code",
   "execution_count": 2,
   "metadata": {
    "collapsed": false
   },
   "outputs": [
    {
     "name": "stdout",
     "output_type": "stream",
     "text": [
      "1.5.0\n"
     ]
    }
   ],
   "source": [
    "print(tf.__version__)"
   ]
  },
  {
   "cell_type": "markdown",
   "metadata": {},
   "source": [
    "## Configuration of ConvNet"
   ]
  },
  {
   "cell_type": "code",
   "execution_count": 3,
   "metadata": {
    "collapsed": true
   },
   "outputs": [],
   "source": [
    "# Convolutional layer 1 \n",
    "filter_size1 = 5     # Convolution filters are 5 x 5 pixels.\n",
    "num_filters1 = 16    # There are 16 of these filters.\n",
    "\n",
    "# Convolutional layer 2\n",
    "filter_size2 = 5     # Convolution filters are 5 x 5 pixels.\n",
    "num_filters2 = 36    # There are 16 of these filters.\n",
    "\n",
    "# COnvolutional layer 3\n",
    "fc_size = 128        # Number of neurons in fully-connected layer."
   ]
  },
  {
   "cell_type": "markdown",
   "metadata": {},
   "source": [
    "## Loading Data"
   ]
  },
  {
   "cell_type": "code",
   "execution_count": 4,
   "metadata": {
    "collapsed": false
   },
   "outputs": [
    {
     "name": "stdout",
     "output_type": "stream",
     "text": [
      "Extracting data/MNIST/train-images-idx3-ubyte.gz\n",
      "Extracting data/MNIST/train-labels-idx1-ubyte.gz\n",
      "Extracting data/MNIST/t10k-images-idx3-ubyte.gz\n",
      "Extracting data/MNIST/t10k-labels-idx1-ubyte.gz\n"
     ]
    }
   ],
   "source": [
    "from tensorflow.examples.tutorials.mnist import input_data\n",
    "data = input_data.read_data_sets('data/MNIST/', one_hot=True)"
   ]
  },
  {
   "cell_type": "markdown",
   "metadata": {},
   "source": [
    "The MNIST data-set consists of 70,000 images and associated labels."
   ]
  },
  {
   "cell_type": "code",
   "execution_count": 5,
   "metadata": {
    "collapsed": false
   },
   "outputs": [
    {
     "name": "stdout",
     "output_type": "stream",
     "text": [
      "Train data volume:  55000\n",
      "Test data volume:  10000\n",
      "Validation data volume:  5000\n"
     ]
    }
   ],
   "source": [
    "print('Train data volume: ', len(data.train.labels))\n",
    "print('Test data volume: ', len(data.test.labels))\n",
    "print('Validation data volume: ', len(data.validation.labels))"
   ]
  },
  {
   "cell_type": "code",
   "execution_count": 6,
   "metadata": {
    "collapsed": true
   },
   "outputs": [],
   "source": [
    "# Defining attribute to contain true class labels in integer format as opposed to on-hot encodings\n",
    "data.test.cls = np.argmax(data.test.labels, axis=1)"
   ]
  },
  {
   "cell_type": "markdown",
   "metadata": {},
   "source": [
    "## Data Dimensions"
   ]
  },
  {
   "cell_type": "code",
   "execution_count": 7,
   "metadata": {
    "collapsed": true
   },
   "outputs": [],
   "source": [
    "img_size = 28\n",
    "img_size_flat = img_size*img_size\n",
    "img_shape = (img_size, img_size)\n",
    "num_channels = 1\n",
    "num_classes = 10"
   ]
  },
  {
   "cell_type": "markdown",
   "metadata": {},
   "source": [
    "### Helper Functions for plotting images"
   ]
  },
  {
   "cell_type": "code",
   "execution_count": 70,
   "metadata": {
    "collapsed": false
   },
   "outputs": [],
   "source": [
    "def plot_images(images, cls_true, cls_pred=None):\n",
    "    fig, axes = plt.subplots(3, 3)\n",
    "    fig.subplots_adjust(hspace=0.3, wspace=0.3)\n",
    "    \n",
    "    for i, ax in enumerate(axes.flat):\n",
    "        ax.imshow(images[i].reshape(img_shape), cmap='binary')\n",
    "        if cls_pred is None:\n",
    "            x_label = 'True: {0}'.format(np.argmax(cls_true[i]))\n",
    "        else:\n",
    "            x_label = 'True: {0}, Pred {1}'.format(np.argmax(cls_true[i]), np.argmax(cls_pred[i]))\n",
    "        ax.set_xlabel(x_label)\n",
    "        \n",
    "        # Remove ticks from the plot.\n",
    "        ax.set_xticks([])\n",
    "        ax.set_yticks([])\n",
    "    plt.show()"
   ]
  },
  {
   "cell_type": "markdown",
   "metadata": {},
   "source": [
    "Plotting some images to see the results of above function"
   ]
  },
  {
   "cell_type": "code",
   "execution_count": 71,
   "metadata": {
    "collapsed": false
   },
   "outputs": [
    {
     "data": {
      "image/png": "[encoded data removed]",
      "text/plain": [
       "<matplotlib.figure.Figure at 0x1943dd60390>"
      ]
     },
     "metadata": {},
     "output_type": "display_data"
    }
   ],
   "source": [
    "images = data.train.images[0:9]\n",
    "cls_true = data.train.labels[0:9]\n",
    "plot_images(images, cls_true)"
   ]
  },
  {
   "cell_type": "markdown",
   "metadata": {},
   "source": [
    "## Building the Tensorflow Graph"
   ]
  },
  {
   "cell_type": "code",
   "execution_count": 10,
   "metadata": {
    "collapsed": true
   },
   "outputs": [],
   "source": [
    "def new_weights(shape):\n",
    "    return tf.Variable(tf.truncated_normal(shape, stddev=0.05))\n",
    "def biases(length):\n",
    "    return tf.Variable(tf.constant(0.05, shape=[length]))"
   ]
  },
  {
   "cell_type": "markdown",
   "metadata": {},
   "source": [
    "### Helper Function to create convolutional layers"
   ]
  },
  {
   "cell_type": "code",
   "execution_count": 11,
   "metadata": {
    "collapsed": false
   },
   "outputs": [],
   "source": [
    "def new_convolutional_layer(conv_prev          # Activation of precious layer\n",
    "                           ,num_input_channels # Number of channels in the previous layer\n",
    "                           ,filter_size        # Width and height of the filter in the current conv layer\n",
    "                           ,num_filters        # Number of filters in the current layer\n",
    "                           ,use_pooling=True): # Use 2x2 Max Poolng by default\n",
    "    \n",
    "    # Shape for weights\n",
    "    # Filter/Weight MUST be of dimension -> [filter_size x filter_size x num_input_channels]\n",
    "    shape = [filter_size, filter_size, num_input_channels, num_filters]\n",
    "    W = new_weights(shape)\n",
    "    b = biases(num_filters) # 1 per filter\n",
    "    \n",
    "    layer = tf.nn.conv2d(input=conv_prev\n",
    "                        ,filter=W\n",
    "                        ,strides=[1,1,1,1]\n",
    "                        ,padding='SAME')\n",
    "    # Adding biases to channels (1 per channel)\n",
    "    layer += b\n",
    "    \n",
    "    if use_pooling:\n",
    "        # Perform 2x2 Max Pooling\n",
    "        layer = tf.nn.max_pool(value=layer\n",
    "                              ,ksize=[1,2,2,1]\n",
    "                              ,strides=[1,2,2,1]\n",
    "                              ,padding='SAME')\n",
    "    \n",
    "    # Apply ReLU activation\n",
    "    layer = tf.nn.relu(layer)\n",
    "    \n",
    "    return layer, W"
   ]
  },
  {
   "cell_type": "markdown",
   "metadata": {},
   "source": [
    "### Helper function to flatten (output of the last conv layer, as it will be fed to the fully connected layer)"
   ]
  },
  {
   "cell_type": "code",
   "execution_count": 12,
   "metadata": {
    "collapsed": true
   },
   "outputs": [],
   "source": [
    "def flatten_layer(layer):\n",
    "    layer_shape = layer.get_shape()\n",
    "    \n",
    "    # The shape of the input layer is assumed to be:\n",
    "    # layer_shape == [num_images, img_height, img_width, num_channels]\n",
    "\n",
    "    # The number of features is: img_height * img_width * num_channels\n",
    "    # We can use a function from TensorFlow to calculate this.\n",
    "    num_features = layer_shape[1:4].num_elements()\n",
    "    \n",
    "    # Computing flattened layer\n",
    "    layer_flat = tf.reshape(layer, [-1, num_features])\n",
    "    \n",
    "    return layer_flat, num_features    "
   ]
  },
  {
   "cell_type": "markdown",
   "metadata": {},
   "source": [
    "### Helper Function to create a new fully connected layer"
   ]
  },
  {
   "cell_type": "code",
   "execution_count": 13,
   "metadata": {
    "collapsed": true
   },
   "outputs": [],
   "source": [
    "def new_fc_layer(conv_prev    # Previous layer\n",
    "                ,num_inputs   # Num of inputs from previous layer\n",
    "                ,num_outputs  # Num of outputs of the current fc layer\n",
    "                ,use_relu=True): # Use Rectified Linear Unit\n",
    "    W = new_weights(shape=[num_inputs, num_outputs])\n",
    "    b = biases(length=num_outputs)\n",
    "    \n",
    "    layer = tf.matmul(conv_prev, W) + b\n",
    "    \n",
    "    if use_relu:\n",
    "        layer = tf.nn.relu(layer)\n",
    "    \n",
    "    return layer    "
   ]
  },
  {
   "cell_type": "markdown",
   "metadata": {},
   "source": [
    "## Declaring placeholders and building convnet layers"
   ]
  },
  {
   "cell_type": "markdown",
   "metadata": {},
   "source": [
    "### Placeholder for the input"
   ]
  },
  {
   "cell_type": "code",
   "execution_count": 14,
   "metadata": {
    "collapsed": true
   },
   "outputs": [],
   "source": [
    "X = tf.placeholder(tf.float32, shape=[None, img_size_flat], name='X')"
   ]
  },
  {
   "cell_type": "markdown",
   "metadata": {},
   "source": [
    "The convolutional layers expect its input to be encoded as a 4-dim tensor so we have to reshape it so its shape is instead [num_images, img_height, img_width, num_channels]. Note that img_height == img_width == img_size and num_images can be inferred automatically by using -1 for the size of the first dimension. So the reshape operation is:"
   ]
  },
  {
   "cell_type": "code",
   "execution_count": 15,
   "metadata": {
    "collapsed": true
   },
   "outputs": [],
   "source": [
    "X_input = tf.reshape(X, shape=[-1, img_size, img_size, num_channels]) # num_channels=1"
   ]
  },
  {
   "cell_type": "markdown",
   "metadata": {},
   "source": [
    "### Placeholder for the output (true labels)"
   ]
  },
  {
   "cell_type": "code",
   "execution_count": 16,
   "metadata": {
    "collapsed": false
   },
   "outputs": [],
   "source": [
    "y_true = tf.placeholder(tf.float32, shape=[None, num_classes], name='y_true')"
   ]
  },
  {
   "cell_type": "code",
   "execution_count": 17,
   "metadata": {
    "collapsed": false
   },
   "outputs": [],
   "source": [
    "# True classes in integer format\n",
    "y_true_cls = tf.argmax(y_true, axis=1)"
   ]
  },
  {
   "cell_type": "markdown",
   "metadata": {},
   "source": [
    "### Convolutional Layer 1"
   ]
  },
  {
   "cell_type": "code",
   "execution_count": 18,
   "metadata": {
    "collapsed": false
   },
   "outputs": [],
   "source": [
    "conv_layer1, weights_layer1 = new_convolutional_layer(conv_prev=X_input,\n",
    "                                             num_input_channels=num_channels,\n",
    "                                             filter_size=filter_size1,\n",
    "                                             num_filters=num_filters1,\n",
    "                                             use_pooling=True)"
   ]
  },
  {
   "cell_type": "code",
   "execution_count": 19,
   "metadata": {
    "collapsed": false
   },
   "outputs": [
    {
     "data": {
      "text/plain": [
       "<tf.Tensor 'Relu:0' shape=(?, 14, 14, 16) dtype=float32>"
      ]
     },
     "execution_count": 19,
     "metadata": {},
     "output_type": "execute_result"
    }
   ],
   "source": [
    "conv_layer1"
   ]
  },
  {
   "cell_type": "markdown",
   "metadata": {},
   "source": [
    "### Convolutional Layer 2"
   ]
  },
  {
   "cell_type": "code",
   "execution_count": 20,
   "metadata": {
    "collapsed": false
   },
   "outputs": [],
   "source": [
    "conv_layer2, weights_layer2 = new_convolutional_layer(conv_prev=conv_layer1,\n",
    "                                             num_input_channels=num_filters1,\n",
    "                                             filter_size=filter_size2,\n",
    "                                             num_filters=num_filters2,\n",
    "                                             use_pooling=True)"
   ]
  },
  {
   "cell_type": "code",
   "execution_count": 21,
   "metadata": {
    "collapsed": false
   },
   "outputs": [
    {
     "data": {
      "text/plain": [
       "<tf.Tensor 'Relu_1:0' shape=(?, 7, 7, 36) dtype=float32>"
      ]
     },
     "execution_count": 21,
     "metadata": {},
     "output_type": "execute_result"
    }
   ],
   "source": [
    "conv_layer2"
   ]
  },
  {
   "cell_type": "markdown",
   "metadata": {},
   "source": [
    "### Flattened Layer"
   ]
  },
  {
   "cell_type": "code",
   "execution_count": 22,
   "metadata": {
    "collapsed": false
   },
   "outputs": [],
   "source": [
    "layer_flat, num_features = flatten_layer(conv_layer2)"
   ]
  },
  {
   "cell_type": "code",
   "execution_count": 23,
   "metadata": {
    "collapsed": false
   },
   "outputs": [
    {
     "data": {
      "text/plain": [
       "<tf.Tensor 'Reshape_1:0' shape=(?, 1764) dtype=float32>"
      ]
     },
     "execution_count": 23,
     "metadata": {},
     "output_type": "execute_result"
    }
   ],
   "source": [
    "layer_flat"
   ]
  },
  {
   "cell_type": "code",
   "execution_count": 24,
   "metadata": {
    "collapsed": false
   },
   "outputs": [
    {
     "data": {
      "text/plain": [
       "1764"
      ]
     },
     "execution_count": 24,
     "metadata": {},
     "output_type": "execute_result"
    }
   ],
   "source": [
    "num_features"
   ]
  },
  {
   "cell_type": "markdown",
   "metadata": {},
   "source": [
    "### Fully Connected Layer 1"
   ]
  },
  {
   "cell_type": "code",
   "execution_count": 25,
   "metadata": {
    "collapsed": false
   },
   "outputs": [],
   "source": [
    "fc_layer1 = new_fc_layer(conv_prev=layer_flat,\n",
    "                         num_inputs=num_features,\n",
    "                         num_outputs=fc_size,\n",
    "                         use_relu=True)"
   ]
  },
  {
   "cell_type": "code",
   "execution_count": 26,
   "metadata": {
    "collapsed": false
   },
   "outputs": [
    {
     "data": {
      "text/plain": [
       "<tf.Tensor 'Relu_2:0' shape=(?, 128) dtype=float32>"
      ]
     },
     "execution_count": 26,
     "metadata": {},
     "output_type": "execute_result"
    }
   ],
   "source": [
    "fc_layer1"
   ]
  },
  {
   "cell_type": "markdown",
   "metadata": {},
   "source": [
    "### Fully Connected Layer 2"
   ]
  },
  {
   "cell_type": "code",
   "execution_count": 27,
   "metadata": {
    "collapsed": false
   },
   "outputs": [],
   "source": [
    "fc_layer2 = new_fc_layer(conv_prev=fc_layer1,\n",
    "                         num_inputs=fc_size,\n",
    "                         num_outputs=num_classes,\n",
    "                         use_relu=False)"
   ]
  },
  {
   "cell_type": "code",
   "execution_count": 28,
   "metadata": {
    "collapsed": false
   },
   "outputs": [
    {
     "data": {
      "text/plain": [
       "<tf.Tensor 'add_3:0' shape=(?, 10) dtype=float32>"
      ]
     },
     "execution_count": 28,
     "metadata": {},
     "output_type": "execute_result"
    }
   ],
   "source": [
    "fc_layer2"
   ]
  },
  {
   "cell_type": "markdown",
   "metadata": {},
   "source": [
    "### Predictions (Softmax)"
   ]
  },
  {
   "cell_type": "code",
   "execution_count": 29,
   "metadata": {
    "collapsed": true
   },
   "outputs": [],
   "source": [
    "y_pred = tf.nn.softmax(fc_layer2) # axis=-1 by default\n",
    "y_pred_cls = tf.argmax(y_pred, axis=-1)"
   ]
  },
  {
   "cell_type": "markdown",
   "metadata": {},
   "source": [
    "### Cost Function\n",
    "Note: The function calculates the softmax internally so we must use the output of layer_fc2 directly rather than y_pred which has already had the softmax applied."
   ]
  },
  {
   "cell_type": "code",
   "execution_count": 31,
   "metadata": {
    "collapsed": false
   },
   "outputs": [],
   "source": [
    "cross_entropy = tf.nn.softmax_cross_entropy_with_logits(logits=fc_layer2,\n",
    "                                                        labels=y_true)\n",
    "cost = tf.reduce_mean(cross_entropy)"
   ]
  },
  {
   "cell_type": "markdown",
   "metadata": {},
   "source": [
    "\n",
    "### Optimizer"
   ]
  },
  {
   "cell_type": "code",
   "execution_count": 32,
   "metadata": {
    "collapsed": true
   },
   "outputs": [],
   "source": [
    "optimizer = tf.train.AdamOptimizer(learning_rate=1e-4).minimize(cost)"
   ]
  },
  {
   "cell_type": "markdown",
   "metadata": {},
   "source": [
    "### Performance Meausure"
   ]
  },
  {
   "cell_type": "code",
   "execution_count": 33,
   "metadata": {
    "collapsed": true
   },
   "outputs": [],
   "source": [
    "correct_prediction = tf.equal(y_pred_cls, y_true_cls)\n",
    "accuracy = tf.reduce_mean(tf.cast(correct_prediction, tf.float32))"
   ]
  },
  {
   "cell_type": "markdown",
   "metadata": {},
   "source": [
    "## Runnung the graph"
   ]
  },
  {
   "cell_type": "code",
   "execution_count": 34,
   "metadata": {
    "collapsed": true
   },
   "outputs": [],
   "source": [
    "sess = tf.Session()\n",
    "sess.run(tf.global_variables_initializer())"
   ]
  },
  {
   "cell_type": "code",
   "execution_count": 36,
   "metadata": {
    "collapsed": true
   },
   "outputs": [],
   "source": [
    "train_batch_size = 64"
   ]
  },
  {
   "cell_type": "code",
   "execution_count": 55,
   "metadata": {
    "collapsed": true
   },
   "outputs": [],
   "source": [
    "total_iterations = 0\n",
    "def optimize(num_iterations):\n",
    "    global total_iterations\n",
    "    \n",
    "    start_time = time.time()\n",
    "    for i in range(total_iterations, total_iterations + num_iterations):\n",
    "        x_batch, y_true_batch = data.train.next_batch(train_batch_size)\n",
    "        feed_dict_train = {X: x_batch, y_true: y_true_batch}\n",
    "        \n",
    "        sess.run(optimizer,feed_dict=feed_dict_train)\n",
    "        \n",
    "        # Print the status every 100 iterations\n",
    "        if i%100==0:\n",
    "            # Calculate the accuracy\n",
    "            acc = sess.run(accuracy, feed_dict=feed_dict_train)\n",
    "            msg = \"Optimization Iteration: {0:>6}, Training Accuracy: {1:>6.1%}\"\n",
    "            print(msg.format(i+1, acc))\n",
    "        \n",
    "    total_iterations += num_iterations\n",
    "    \n",
    "    end_time = time.time()\n",
    "    time_diff = end_time - start_time\n",
    "    print('Time to perform {0} iterations: {1}'.format(num_iterations, str(timedelta(seconds=int(round(time_diff))))))            "
   ]
  },
  {
   "cell_type": "markdown",
   "metadata": {},
   "source": [
    "### Helper Function to Plot Errors"
   ]
  },
  {
   "cell_type": "code",
   "execution_count": 44,
   "metadata": {
    "collapsed": false
   },
   "outputs": [],
   "source": [
    "def plot_errors(cls_pred, correct):\n",
    "    \n",
    "    incorrect = (correct == False)\n",
    "       \n",
    "    images = data.test.images[incorrect]\n",
    "    cls_pred = cls_pred[incorrect]\n",
    "    cls_true = data.test.labels[incorrect]\n",
    "    \n",
    "    plot_images(images[0:9], cls_true[0:9], cls_pred[0:9])"
   ]
  },
  {
   "cell_type": "markdown",
   "metadata": {},
   "source": [
    "### Helper Function to Plot Confusion Matrix"
   ]
  },
  {
   "cell_type": "code",
   "execution_count": 79,
   "metadata": {
    "collapsed": true
   },
   "outputs": [],
   "source": [
    "def plot_confusion_matrix(cls_pred):\n",
    "    cls_true = data.test.cls\n",
    "    cm = confusion_matrix(y_true=cls_true,\n",
    "                          y_pred=cls_pred)\n",
    "    print(cm)\n",
    "    plt.matshow(cm)\n",
    "    plt.colorbar()\n",
    "    plt.xlabel('Predicted')\n",
    "    plt.ylabel('True')\n",
    "    plt.show()"
   ]
  },
  {
   "cell_type": "markdown",
   "metadata": {},
   "source": [
    "### Helper Function to Show the Performance"
   ]
  },
  {
   "cell_type": "code",
   "execution_count": 52,
   "metadata": {
    "collapsed": true
   },
   "outputs": [],
   "source": [
    "test_batch_size = 256\n",
    "\n",
    "def print_test_accuracy(show_example_error=False, show_confusion_matrix=False):\n",
    "    num_test = len(data.test.images)\n",
    "    cls_pred = np.zeros(shape=num_test, dtype=np.int)\n",
    "    \n",
    "    i=0\n",
    "    while i<num_test:\n",
    "        # The ending index for the next batch is denoted j.\n",
    "        j = min(i + test_batch_size, num_test)\n",
    "        \n",
    "        # Get the images from the test-set between index i and j.\n",
    "        images = data.test.images[i:j, :]\n",
    "        \n",
    "        # Get the associated labels.\n",
    "        labels = data.test.labels[i:j, :]\n",
    "        \n",
    "        feed_dict = {X: images, y_true: labels}\n",
    "        cls_pred[i:j] = sess.run(y_pred_cls, feed_dict=feed_dict)\n",
    "        i=j\n",
    "    \n",
    "    cls_true = data.test.cls\n",
    "    correct = (cls_true == cls_pred)\n",
    "    correct_sum = correct.sum()\n",
    "    acc = float(correct_sum) / num_test\n",
    "    \n",
    "    # Print the accuracy.\n",
    "    msg = \"Accuracy on Test-Set: {0:.1%} ({1} / {2})\"\n",
    "    print(msg.format(acc, correct_sum, num_test))\n",
    "    \n",
    "    # Plot some examples of mis-classifications, if desired.\n",
    "    if show_example_error:\n",
    "        print(\"Example errors:\")\n",
    "        plot_errors(cls_pred=cls_pred, correct=correct)\n",
    "\n",
    "    # Plot the confusion matrix, if desired.\n",
    "    if show_confusion_matrix:\n",
    "        print(\"Confusion Matrix:\")\n",
    "        plot_confusion_matrix(cls_pred=cls_pred)"
   ]
  },
  {
   "cell_type": "code",
   "execution_count": 53,
   "metadata": {
    "collapsed": false
   },
   "outputs": [
    {
     "name": "stdout",
     "output_type": "stream",
     "text": [
      "Accuracy on Test-Set: 10.4% (1036 / 10000)\n"
     ]
    }
   ],
   "source": [
    "print_test_accuracy()"
   ]
  },
  {
   "cell_type": "code",
   "execution_count": 56,
   "metadata": {
    "collapsed": false
   },
   "outputs": [
    {
     "name": "stdout",
     "output_type": "stream",
     "text": [
      "Optimization Iteration:      1, Training Accuracy:  21.9%\n",
      "Time to perform 1 iterations: 0:00:00\n"
     ]
    }
   ],
   "source": [
    "optimize(num_iterations=1)"
   ]
  },
  {
   "cell_type": "code",
   "execution_count": 57,
   "metadata": {
    "collapsed": false
   },
   "outputs": [
    {
     "name": "stdout",
     "output_type": "stream",
     "text": [
      "Accuracy on Test-Set: 12.8% (1281 / 10000)\n"
     ]
    }
   ],
   "source": [
    "print_test_accuracy()"
   ]
  },
  {
   "cell_type": "code",
   "execution_count": 58,
   "metadata": {
    "collapsed": false
   },
   "outputs": [
    {
     "name": "stdout",
     "output_type": "stream",
     "text": [
      "Time to perform 99 iterations: 0:00:11\n"
     ]
    }
   ],
   "source": [
    "optimize(num_iterations=99)"
   ]
  },
  {
   "cell_type": "code",
   "execution_count": 72,
   "metadata": {
    "collapsed": false
   },
   "outputs": [
    {
     "name": "stdout",
     "output_type": "stream",
     "text": [
      "Accuracy on Test-Set: 66.0% (6596 / 10000)\n",
      "Example errors:\n"
     ]
    },
    {
     "data": {
      "image/png": "[encoded data removed]",
      "text/plain": [
       "<matplotlib.figure.Figure at 0x1943d9bfc18>"
      ]
     },
     "metadata": {},
     "output_type": "display_data"
    }
   ],
   "source": [
    "print_test_accuracy(show_example_error=True)"
   ]
  },
  {
   "cell_type": "code",
   "execution_count": 73,
   "metadata": {
    "collapsed": false
   },
   "outputs": [
    {
     "name": "stdout",
     "output_type": "stream",
     "text": [
      "Optimization Iteration:    101, Training Accuracy:  71.9%\n",
      "Optimization Iteration:    201, Training Accuracy:  82.8%\n",
      "Optimization Iteration:    301, Training Accuracy:  85.9%\n",
      "Optimization Iteration:    401, Training Accuracy:  92.2%\n",
      "Optimization Iteration:    501, Training Accuracy:  92.2%\n",
      "Optimization Iteration:    601, Training Accuracy:  92.2%\n",
      "Optimization Iteration:    701, Training Accuracy:  89.1%\n",
      "Optimization Iteration:    801, Training Accuracy:  90.6%\n",
      "Optimization Iteration:    901, Training Accuracy:  87.5%\n",
      "Optimization Iteration:   1001, Training Accuracy:  93.8%\n",
      "Time to perform 1000 iterations: 0:01:49\n"
     ]
    }
   ],
   "source": [
    "optimize(num_iterations=1000)"
   ]
  },
  {
   "cell_type": "code",
   "execution_count": 74,
   "metadata": {
    "collapsed": false
   },
   "outputs": [
    {
     "name": "stdout",
     "output_type": "stream",
     "text": [
      "Accuracy on Test-Set: 93.8% (9378 / 10000)\n",
      "Example errors:\n"
     ]
    },
    {
     "data": {
      "image/png": "[encoded data removed]",
      "text/plain": [
       "<matplotlib.figure.Figure at 0x1943a114400>"
      ]
     },
     "metadata": {},
     "output_type": "display_data"
    }
   ],
   "source": [
    "print_test_accuracy(show_example_error=True)"
   ]
  },
  {
   "cell_type": "code",
   "execution_count": 75,
   "metadata": {
    "collapsed": false
   },
   "outputs": [
    {
     "name": "stdout",
     "output_type": "stream",
     "text": [
      "Optimization Iteration:   1101, Training Accuracy:  89.1%\n",
      "Optimization Iteration:   1201, Training Accuracy:  95.3%\n",
      "Optimization Iteration:   1301, Training Accuracy:  93.8%\n",
      "Optimization Iteration:   1401, Training Accuracy:  96.9%\n",
      "Optimization Iteration:   1501, Training Accuracy:  95.3%\n",
      "Optimization Iteration:   1601, Training Accuracy:  92.2%\n",
      "Optimization Iteration:   1701, Training Accuracy:  98.4%\n",
      "Optimization Iteration:   1801, Training Accuracy:  95.3%\n",
      "Optimization Iteration:   1901, Training Accuracy:  95.3%\n",
      "Optimization Iteration:   2001, Training Accuracy:  96.9%\n",
      "Optimization Iteration:   2101, Training Accuracy: 100.0%\n",
      "Optimization Iteration:   2201, Training Accuracy:  82.8%\n",
      "Optimization Iteration:   2301, Training Accuracy:  95.3%\n",
      "Optimization Iteration:   2401, Training Accuracy:  96.9%\n",
      "Optimization Iteration:   2501, Training Accuracy:  93.8%\n",
      "Optimization Iteration:   2601, Training Accuracy:  93.8%\n",
      "Optimization Iteration:   2701, Training Accuracy: 100.0%\n",
      "Optimization Iteration:   2801, Training Accuracy:  95.3%\n",
      "Optimization Iteration:   2901, Training Accuracy:  95.3%\n",
      "Optimization Iteration:   3001, Training Accuracy:  96.9%\n",
      "Optimization Iteration:   3101, Training Accuracy:  98.4%\n",
      "Optimization Iteration:   3201, Training Accuracy:  95.3%\n",
      "Optimization Iteration:   3301, Training Accuracy:  98.4%\n",
      "Optimization Iteration:   3401, Training Accuracy:  96.9%\n",
      "Optimization Iteration:   3501, Training Accuracy:  95.3%\n",
      "Optimization Iteration:   3601, Training Accuracy:  96.9%\n",
      "Optimization Iteration:   3701, Training Accuracy:  96.9%\n",
      "Optimization Iteration:   3801, Training Accuracy:  96.9%\n",
      "Optimization Iteration:   3901, Training Accuracy:  96.9%\n",
      "Optimization Iteration:   4001, Training Accuracy:  98.4%\n",
      "Optimization Iteration:   4101, Training Accuracy: 100.0%\n",
      "Optimization Iteration:   4201, Training Accuracy: 100.0%\n",
      "Optimization Iteration:   4301, Training Accuracy:  96.9%\n",
      "Optimization Iteration:   4401, Training Accuracy:  98.4%\n",
      "Optimization Iteration:   4501, Training Accuracy:  98.4%\n",
      "Optimization Iteration:   4601, Training Accuracy:  98.4%\n",
      "Optimization Iteration:   4701, Training Accuracy:  96.9%\n",
      "Optimization Iteration:   4801, Training Accuracy:  95.3%\n",
      "Optimization Iteration:   4901, Training Accuracy: 100.0%\n",
      "Optimization Iteration:   5001, Training Accuracy:  96.9%\n",
      "Optimization Iteration:   5101, Training Accuracy:  96.9%\n",
      "Optimization Iteration:   5201, Training Accuracy:  93.8%\n",
      "Optimization Iteration:   5301, Training Accuracy:  96.9%\n",
      "Optimization Iteration:   5401, Training Accuracy:  98.4%\n",
      "Optimization Iteration:   5501, Training Accuracy:  93.8%\n",
      "Optimization Iteration:   5601, Training Accuracy:  98.4%\n",
      "Optimization Iteration:   5701, Training Accuracy:  96.9%\n",
      "Optimization Iteration:   5801, Training Accuracy: 100.0%\n",
      "Optimization Iteration:   5901, Training Accuracy:  98.4%\n",
      "Optimization Iteration:   6001, Training Accuracy:  96.9%\n",
      "Optimization Iteration:   6101, Training Accuracy: 100.0%\n",
      "Optimization Iteration:   6201, Training Accuracy:  95.3%\n",
      "Optimization Iteration:   6301, Training Accuracy: 100.0%\n",
      "Optimization Iteration:   6401, Training Accuracy: 100.0%\n",
      "Optimization Iteration:   6501, Training Accuracy: 100.0%\n",
      "Optimization Iteration:   6601, Training Accuracy:  96.9%\n",
      "Optimization Iteration:   6701, Training Accuracy:  98.4%\n",
      "Optimization Iteration:   6801, Training Accuracy: 100.0%\n",
      "Optimization Iteration:   6901, Training Accuracy:  96.9%\n",
      "Optimization Iteration:   7001, Training Accuracy: 100.0%\n",
      "Optimization Iteration:   7101, Training Accuracy:  98.4%\n",
      "Optimization Iteration:   7201, Training Accuracy:  96.9%\n",
      "Optimization Iteration:   7301, Training Accuracy:  96.9%\n",
      "Optimization Iteration:   7401, Training Accuracy:  98.4%\n",
      "Optimization Iteration:   7501, Training Accuracy:  98.4%\n",
      "Optimization Iteration:   7601, Training Accuracy:  93.8%\n",
      "Optimization Iteration:   7701, Training Accuracy: 100.0%\n",
      "Optimization Iteration:   7801, Training Accuracy: 100.0%\n",
      "Optimization Iteration:   7901, Training Accuracy: 100.0%\n",
      "Optimization Iteration:   8001, Training Accuracy:  98.4%\n",
      "Optimization Iteration:   8101, Training Accuracy: 100.0%\n",
      "Optimization Iteration:   8201, Training Accuracy:  98.4%\n",
      "Optimization Iteration:   8301, Training Accuracy:  98.4%\n",
      "Optimization Iteration:   8401, Training Accuracy:  98.4%\n",
      "Optimization Iteration:   8501, Training Accuracy: 100.0%\n",
      "Optimization Iteration:   8601, Training Accuracy:  98.4%\n",
      "Optimization Iteration:   8701, Training Accuracy:  98.4%\n",
      "Optimization Iteration:   8801, Training Accuracy:  96.9%\n",
      "Optimization Iteration:   8901, Training Accuracy:  98.4%\n",
      "Optimization Iteration:   9001, Training Accuracy: 100.0%\n",
      "Optimization Iteration:   9101, Training Accuracy:  95.3%\n",
      "Optimization Iteration:   9201, Training Accuracy: 100.0%\n",
      "Optimization Iteration:   9301, Training Accuracy: 100.0%\n",
      "Optimization Iteration:   9401, Training Accuracy: 100.0%\n",
      "Optimization Iteration:   9501, Training Accuracy:  98.4%\n",
      "Optimization Iteration:   9601, Training Accuracy:  98.4%\n",
      "Optimization Iteration:   9701, Training Accuracy: 100.0%\n",
      "Optimization Iteration:   9801, Training Accuracy: 100.0%\n",
      "Optimization Iteration:   9901, Training Accuracy:  98.4%\n",
      "Optimization Iteration:  10001, Training Accuracy:  96.9%\n",
      "Optimization Iteration:  10101, Training Accuracy:  98.4%\n",
      "Optimization Iteration:  10201, Training Accuracy:  98.4%\n",
      "Optimization Iteration:  10301, Training Accuracy:  96.9%\n",
      "Optimization Iteration:  10401, Training Accuracy: 100.0%\n",
      "Optimization Iteration:  10501, Training Accuracy: 100.0%\n",
      "Optimization Iteration:  10601, Training Accuracy: 100.0%\n",
      "Optimization Iteration:  10701, Training Accuracy:  96.9%\n",
      "Optimization Iteration:  10801, Training Accuracy: 100.0%\n",
      "Optimization Iteration:  10901, Training Accuracy: 100.0%\n",
      "Optimization Iteration:  11001, Training Accuracy: 100.0%\n",
      "Time to perform 10000 iterations: 0:17:38\n"
     ]
    }
   ],
   "source": [
    "optimize(num_iterations=10000)"
   ]
  },
  {
   "cell_type": "code",
   "execution_count": 80,
   "metadata": {
    "collapsed": false
   },
   "outputs": [
    {
     "name": "stdout",
     "output_type": "stream",
     "text": [
      "Accuracy on Test-Set: 98.9% (9887 / 10000)\n",
      "Example errors:\n"
     ]
    },
    {
     "data": {
      "image/png": "[encoded data removed]",
      "text/plain": [
       "<matplotlib.figure.Figure at 0x1943d965160>"
      ]
     },
     "metadata": {},
     "output_type": "display_data"
    },
    {
     "name": "stdout",
     "output_type": "stream",
     "text": [
      "Confusion Matrix:\n",
      "[[ 971    0    1    0    0    1    2    1    3    1]\n",
      " [   0 1129    2    0    0    0    1    1    2    0]\n",
      " [   2    1 1021    0    0    0    0    3    5    0]\n",
      " [   0    0    0 1005    0    2    0    1    2    0]\n",
      " [   0    0    1    0  974    0    0    0    1    6]\n",
      " [   2    0    0    4    0  883    1    0    0    2]\n",
      " [   5    2    0    0    2    5  943    0    1    0]\n",
      " [   0    2    6    2    1    0    0 1014    1    2]\n",
      " [   3    0    3    2    2    2    0    3  953    6]\n",
      " [   2    3    0    1    3    3    0    3    0  994]]\n"
     ]
    },
    {
     "data": {
      "image/png": "[encoded data removed]",
      "text/plain": [
       "<matplotlib.figure.Figure at 0x1942f7feef0>"
      ]
     },
     "metadata": {},
     "output_type": "display_data"
    }
   ],
   "source": [
    "print_test_accuracy(show_example_error=True,\n",
    "                    show_confusion_matrix=True)"
   ]
  },
  {
   "cell_type": "markdown",
   "metadata": {},
   "source": [
    "## Visualizing Weights and Layers"
   ]
  },
  {
   "cell_type": "code",
   "execution_count": 101,
   "metadata": {
    "collapsed": true
   },
   "outputs": [],
   "source": [
    "def plot_conv_weights(weights, input_channel=0):\n",
    "    w = sess.run(weights)\n",
    "    w_min = np.min(weights)\n",
    "    w_max = np.max(weights)\n",
    "    num_filters = w.shape[3]\n",
    "    num_grids = math.ceil(math.sqrt(num_filters))\n",
    "    fig, axes = plt.subplots(num_grids, num_grids)\n",
    "    for i, ax in enumerate(axes.flat):\n",
    "        # Only plot the valid filter-weights.\n",
    "        if i<num_filters:\n",
    "            # Get the weights for the i'th filter of the input channel.\n",
    "            # See new_conv_layer() for details on the format\n",
    "            # of this 4-dim tensor.\n",
    "            img = w[:, :, input_channel, i]\n",
    "\n",
    "            # Plot image.\n",
    "            ax.imshow(img, vmin=w_min, vmax=w_max,\n",
    "                      interpolation='nearest', cmap='seismic')\n",
    "        \n",
    "        # Remove ticks from the plot.\n",
    "        ax.set_xticks([])\n",
    "        ax.set_yticks([])\n",
    "    \n",
    "    # Ensure the plot is shown correctly with multiple plots\n",
    "    # in a single Notebook cell.\n",
    "    plt.show()"
   ]
  }
 ],
 "metadata": {
  "kernelspec": {
   "display_name": "Python 3",
   "language": "python",
   "name": "python3"
  },
  "language_info": {
   "codemirror_mode": {
    "name": "ipython",
    "version": 3
   },
   "file_extension": ".py",
   "mimetype": "text/x-python",
   "name": "python",
   "nbconvert_exporter": "python",
   "pygments_lexer": "ipython3",
   "version": "3.6.0"
  }
 },
 "nbformat": 4,
 "nbformat_minor": 2
}
